{
 "cells": [
  {
   "cell_type": "markdown",
   "id": "1e9c24b8-7991-49f9-b97b-8410e346219d",
   "metadata": {},
   "source": [
    "# Problema B6.4\n",
    "\n",
    "Para resolver la corriente inducida en la espira, es necesario conocer el campo magnético que genera el solenoide en todo el espacio. \n",
    "\n",
    "```{figure} ../images/solenoide.png\n",
    ":alt: solenoide\n",
    ":width: 250px\n",
    "Diagrama del problema.\n",
    "```\n",
    "\n",
    "Podemos aprovechar la simetría y resolverlo por Ampere, utilizando un circuito de Ampere apropiado.\n",
    "\n",
    "```{note}\n",
    "El circuito de Ampere debe elegirse de forma que **la superficie de dicho circuito de Ampere tenga lados paralelos al campo magnético**. Los lados restantes, si los hay, deberían ser perpendiculares al campo magnético. Para ello, debemos adivinar **la dirección del campo magnético usando la regla de la mano derecha**. Por otra parte, **el circuito de Ampere debe estar atravesado por la corriente que genera el campo**.\n",
    "```\n",
    "\n",
    "En esta configuración, de un solenoide cilíndrico infinito en el que los hilos de corriente tienen dirección $\\vec{u_\\phi}$ positiva, el campo magnético tendrá dirección $\\vec{u_z}$. Por lo tanto, **el circuito de Ampere debe tener lados paralelos al eje $z$**. Los lados restantes deben ser perpendiculares al eje $z$ para que no aporten en la integral de Ampere. Para que recoja la corriente en su interior, la configuración debe ser la de la figura:\n",
    "\n",
    "```{figure} ../images/solenoide_ampere.png\n",
    ":alt: solenoide_ampere\n",
    ":width: 250px\n",
    "Diagrama del problema.\n",
    "```\n",
    "\n",
    "**La integral de Ampere es, en el caso de materiales**:\n",
    "\n",
    "$$\n",
    "\\int\\vec{H}\\cdot\\vec{dl} = I_{enc}\n",
    "$$\n",
    "\n",
    "La integral es facil de calcular, $\\int\\vec{H}\\cdot\\vec{dl} = H_{int}l$. Podemos ver que el campo magnético en el exterior debe ser independiente de la distancia $r$ al eje, ya que la expresión no puede depender de la posición del lado que está fuera. Ádemas, debe ser  $H_{ext} = 0$, *porque en el infinito debería tender a cero y la constante debe coincidir con el valor en el infinito*. La corriente que atraviesa la espira es la de todos los hilos que la atraviesan, $I(t)nl$ (*recordamos que $n$ es el número de espiras por unidad de longitud*).\n",
    "\n",
    "$$\n",
    "\\vec{B_{int}} = \\mu I(t) n \\vec{u_z}\n",
    "$$\n",
    "\n",
    "Con esto, **podemos calcular el flujo que pasa por la espira del problema**:\n",
    "\n",
    "\n",
    "```{figure} ../images/solenoide_r.png\n",
    ":alt: solenoide_r\n",
    ":width: 250px\n",
    "Diagrama del problema.\n",
    "```\n",
    "\n",
    "Observamos que no nos da las dimensiones de la espira, *pero no nos importa, porque todo el flujo es el producido en el interior del núcleo de permeabilidad $\\mu$*, es decir, $\\Phi = B_{int}\\pi a^2$. Con esto, la corriente inducida en la espira es:\n",
    "\n",
    "$$\n",
    "I_2 = \\frac{\\mathcal{E}}{R} = -\\frac{1}{R}\\frac{\\rm{d}\\Phi}{\\rm{d}t} = -\\frac{\\mu n \\pi a^2}{R}\\frac{\\rm{d}I(t)}{\\rm{d}t}\n",
    "$$"
   ]
  },
  {
   "cell_type": "code",
   "execution_count": null,
   "id": "668ab9fc-b517-4a86-b651-e3714d3b3834",
   "metadata": {},
   "outputs": [],
   "source": []
  }
 ],
 "metadata": {
  "kernelspec": {
   "display_name": "Python 3 (ipykernel)",
   "language": "python",
   "name": "python3"
  },
  "language_info": {
   "codemirror_mode": {
    "name": "ipython",
    "version": 3
   },
   "file_extension": ".py",
   "mimetype": "text/x-python",
   "name": "python",
   "nbconvert_exporter": "python",
   "pygments_lexer": "ipython3",
   "version": "3.8.20"
  }
 },
 "nbformat": 4,
 "nbformat_minor": 5
}
