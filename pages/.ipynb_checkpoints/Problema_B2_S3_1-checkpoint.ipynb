{
 "cells": [
  {
   "cell_type": "markdown",
   "id": "d6c17bb3-d109-4717-a234-1c1af280e196",
   "metadata": {},
   "source": [
    "# Problema B2.S3.1\n",
    "\n",
    "Este problema es el más básico de imágenes, pero es interesante porque pide calcular muchas cosas distintas en los distintos subapartados. Se trata de una partícula de carga $q$ a una distancia $d$ de un plano de conductor eléctrico perfecto (*CEP*) conectada a un potencial nulo, $\\Phi_{CEP} = 0$.\n",
    "\n",
    "\n",
    "```{figure} ../images/B2_S3_1_1.png\n",
    ":alt: plano CEP y carga.png\n",
    ":width: 350px\n",
    "```\n",
    "\n",
    "La imagen de la carga puntal $q$ es fácil, pero antes de establecerla y empezar a hacer cálculos, vamos a considerar las condiciones que debe cumplir la imagen para que sea válida (*El argumento también será válido en configuraciones más complejas*).\n",
    "\n",
    "* Queremos sustituir el CEP por una configuración de cargas que permita que el potencial en la superficie del CEP sea $\\Phi_{CEP} = 0$.\n",
    "\n",
    "```{note}\n",
    "Recordemos que un conductor eléctrico perfecto (*CEP*) tiene las siguiente características, derivadas de la libertad de movimiento de las cargas dentro del CEP.\n",
    "* El CEP impone un potencial constante en su superficie (*y en general en todo su volumen*).\n",
    "* El campo eléctrico $\\vec{E}_{CEP}$ en la superficie del CEP es perpendicular (*o nulo*) a dicha superficie. Está garantizado si el potencial el constante en la superficie.\n",
    "* La densidad de carga superficial es la que permite cumplir estas dos condiciones. Puede ser cualquiera, dependiendo de las cargas fuera del conductor. Solamente se puede calcular a posteriori, después de conocer el campo eléctrico $\\vec{E}_{CEP}$ en la superficie del CEP.\n",
    "```\n",
    "\n",
    "* La imagen debe garantizar que el potencial en la superficie del CEP es la apropiada, $\\Phi_{CEP} = 0$, permitiendo sustituir una por la otra en los cálculos.\n",
    "\n",
    "* El potencial $\\Phi(\\vec{r})$ y el campo eléctrico $\\vec{E}(\\vec{r})$ calculados con las cargas y sus imágenes solo es válido fuera del CEP. Dentro del CEP, el modelo no es válido, y el potencial es constante $\\Phi_{CEP}(\\vec{r}) = \\Phi_{CEP} = 0$.\n",
    "\n",
    "Pensar en términos de potencial es a menudo más sencillo en problemas de imágenes. Por lo tanto, necesitamos una configuración de cargas que permita que el potencial sea 0 en la superficie del CEP, teniendo una carga $q$ que ya impone un potencial distinto de 0. Por lo tanto, **contamos con la posición y el valor de las cargas imágenes**: Aunque se puede demostrar matemáticamente, por inspección vemos que la única opción es una carga negativa $-q$ a una distancia $d$ dentro del CEP, de tal modo que el potencial que impone es del mismo valor y de signo contrario. La combinación de ambos da 0 en la superficie, y podemos retirar el CEP (*como la solución es única, y hemos encontrado una solución aunque sea por inspección, la solución es la correcta*).\n",
    "\n",
    "Es decir, la configuración equivalente, que verifica que el potencial en la superficie del CEP es $\\Phi_{CEP} = 0$ es la siguiente:\n",
    "\n",
    "\n",
    "```{figure} ../images/B2_S3_1_2.png\n",
    ":alt: plano CEP y carga.png\n",
    ":width: 350px\n",
    "```\n",
    "\n",
    "Elegimos el Sistema de Referencia de tal modo que el plano de CEP está en $x=0$, y la carga $q$ está en $\\vec{r}_q = d\\vec{u_x}$, entonces la imagen $q'$:\n",
    "\n",
    "$$\n",
    "q' &= -q \\\\\n",
    "\\vec{r}_{q'} &= -d\\vec{u_x}\n",
    "$$\n",
    "\n"
   ]
  },
  {
   "cell_type": "code",
   "execution_count": null,
   "id": "a1fd80cd-793c-4380-9b54-f85a15508ae7",
   "metadata": {},
   "outputs": [],
   "source": []
  },
  {
   "cell_type": "code",
   "execution_count": null,
   "id": "4d5119fd-d71e-4782-a3be-ffbcbcf9a40f",
   "metadata": {},
   "outputs": [],
   "source": []
  }
 ],
 "metadata": {
  "kernelspec": {
   "display_name": "Python 3 (ipykernel)",
   "language": "python",
   "name": "python3"
  },
  "language_info": {
   "codemirror_mode": {
    "name": "ipython",
    "version": 3
   },
   "file_extension": ".py",
   "mimetype": "text/x-python",
   "name": "python",
   "nbconvert_exporter": "python",
   "pygments_lexer": "ipython3",
   "version": "3.12.4"
  }
 },
 "nbformat": 4,
 "nbformat_minor": 5
}
