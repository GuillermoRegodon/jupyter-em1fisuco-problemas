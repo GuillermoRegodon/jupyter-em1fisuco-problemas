{
 "cells": [
  {
   "cell_type": "markdown",
   "id": "6484cc20-f793-4462-88b6-5e7f31925edc",
   "metadata": {},
   "source": [
    "# Problema B6.6\n",
    "\n",
    "El radio del toroide está indicado, $R$, pero no se dice exáctamente si es el radio interior, el exterior, el radio del centro de la sección circular de superficie $A$... Por eso, **vamos a suponer que la sección es suficientemente pequeña** como para que la diferencia sea despreciable.\n",
    "\n",
    "```{figure} ../images/toroide.png\n",
    ":alt: toroide\n",
    ":width: 360px\n",
    "Diagrama del problema.\n",
    "```\n",
    "\n",
    "Para calcular el coeficiente de autoinducción, **es necesario calcular el flujo magnético que atraviesa la superficie de describe el circuito** generado por el propio circuito. A partir del flujo, *el coeficiente de autoinducción es inmediato*.\n",
    "\n",
    "$$\n",
    "L = \\frac{\\Phi_1}{I}\n",
    "$$\n",
    "\n",
    "El campo magnético se puede obtener fácilmente por Ampere.\n",
    "\n",
    "```{note}\n",
    "El circuito de Ampere debe elegirse de forma que **la superficie de dicho circuito de Ampere tenga lados paralelos al campo magnético**. Los lados restantes, si los hay, deberían ser perpendiculares al campo magnético. Para ello, debemos adivinar **la dirección del campo magnético usando la regla de la mano derecha**. Por otra parte, **el circuito de Ampere debe estar atravesado por la corriente que genera el campo**.\n",
    "```\n",
    "\n",
    "En esta configuración, por la regla de la mano derecha, podemos deducir que **el campo magnético tiene dirección $\\vec{u_\\phi}$ por el interior del toroide**. Por lo tanto, el circuito de Ampere apropiado es un circulo que *siga las lineas de campo magnético en el interior*. Vemos que los hilos de corriente que suben por el interior del toroide atraviesan su superficie.\n",
    "\n",
    "```{figure} ../images/toroide_ampere.png\n",
    ":alt: toroide_ampere\n",
    ":width: 350px\n",
    "Diagrama del problema.\n",
    "```\n",
    "\n",
    "De esta forma, la integral de Ampere queda:\n",
    "\n",
    "$$\n",
    "\\int\\vec{B}\\cdot\\vec{dl} &= \\mu_0 I_{enc} \\\\\n",
    "B2\\pi R &= \\mu_0 I N_1\n",
    "$$\n",
    "\n",
    "Para obtener la integral del flujo del campo magnético sobre el propio circuito, **debemos tener cuidado por que el circuito da $N_1$ vueltas**, por lo que la superficie no es la sección $A$ de una espira, sino la sección de las $N_1$ espiras sumadas. Con $\\vec{B}$ aproximadamente constante en la superficie:\n",
    "\n",
    "$$\n",
    "\\Phi_1 = \\int_{S_1}\\vec{B}\\cdot\\vec{dS_1} = B N_1 A\n",
    "$$\n",
    "\n",
    "Podemos obtener $L$ de forma inmediata. Si se pone un segundo arroyamiento de $N_2$ vueltas justo encima del primero de forma que el área $A$ es igual, el coeficiente de inducción mutua $M$ es también inmediato. Siendo el campo magnético $B$ el mismo:\n",
    "\n",
    "$$\n",
    "M &= \\frac{\\Phi_{21}}{I} \\\\\n",
    "\\Phi_{21} &= \\int_{S_2}\\vec{B}\\cdot\\vec{dS_2} = B N_2 A\n",
    "$$\n",
    "\n",
    "Observar que **en el coeficiente de autoinducción aparece un factor $N_1^2$**, mientras que **en el coeficiente de inducción mutua hay un factor $N_1N_2$**. Queda claro que podriamos haber calculado $\\Phi_{21}$ y $\\Phi_{12}$ indistintanmente para obtener el mismo resultado, y que se cumple la expresión $M = \\sqrt{L_1 L_2}$."
   ]
  },
  {
   "cell_type": "code",
   "execution_count": null,
   "id": "c13e9215-daae-40d7-86bf-1a9f3fd16f64",
   "metadata": {},
   "outputs": [],
   "source": []
  }
 ],
 "metadata": {
  "kernelspec": {
   "display_name": "Python 3 (ipykernel)",
   "language": "python",
   "name": "python3"
  },
  "language_info": {
   "codemirror_mode": {
    "name": "ipython",
    "version": 3
   },
   "file_extension": ".py",
   "mimetype": "text/x-python",
   "name": "python",
   "nbconvert_exporter": "python",
   "pygments_lexer": "ipython3",
   "version": "3.12.4"
  }
 },
 "nbformat": 4,
 "nbformat_minor": 5
}
