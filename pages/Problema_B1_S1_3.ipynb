{
 "cells": [
  {
   "cell_type": "markdown",
   "id": "b8607d1d-759e-42c9-b8d4-ef6c0b2a8caa",
   "metadata": {},
   "source": [
    "# Problema B1.S1.3\n",
    "\n",
    "Para este problema podemos pensar en plantear una integral en coordenadas esféricas, pero es difícil parametrizar la frontera interior de la distribución de carga, la de la cavidad, por que es una esfera no centrada. De hecho, *no existe un sistema de referencia desde el que se pueda parametrizar ambas fronteras, la interna y la externa, fácilmente*.\n",
    "\n",
    "Sin embargo, podemos observar que se puede imaginar **la configuración de carga como a superposición de dos configuraciones sencillas: La primera es una esfera de densidad de carga constante $\\rho$ centrada en $O$, y la segunda, otra esfera de densidad de carga constante $-\\rho$ centrada en $O'$**. De esta forma, la carga en la cavidad es cero, por superposición de las dos configuraciones. Por supuesto, el campo en el interior de la configuración de carga con la cavidad es la suma del campo eléctrico en el interior de ambas esferas.\n",
    "\n",
    "* La primera configuración es una esfera de densidad de carga constante $\\rho$ centrada en $O$, el origen del sistema de coordenadas. Calcular el campo eléctrico de esta configuración es sencillo por Gauss (*¡Comprobar!*). En el interior:\n",
    "\n",
    "$$\n",
    "\\vec{E_1} = \\frac{\\rho \\vec{r}}{3 \\varepsilon_0} \n",
    "$$\n",
    "\n",
    "donde $\\vec{r}$ es el vector posición del punto en el que estamos midiendo el campo.\n",
    "\n",
    "* La segunda es otra esfera de densidad de carga constante $-\\rho$ centrada en $O'$. El campo eléctrico es, por tanto, el mismo, con el origen desplazado.\n",
    "\n",
    "$$\n",
    "\\vec{E_2} = -\\frac{\\rho (\\vec{r}-\\vec{O'})}{3 \\varepsilon_0} \n",
    "$$\n",
    "\n",
    "* Por lo tanto, el resultado global es la suma de los dos.\n",
    "\n",
    "$$\n",
    "\\vec{E} = \\vec{E_1} + \\vec{E_2} = \\frac{\\rho (\\vec{r}-\\vec{r}+\\vec{O'})}{3 \\varepsilon_0}  = \\frac{\\rho \\vec{O'}}{3 \\varepsilon_0} \n",
    "$$\n",
    "\n",
    "Es decir, **el campo en el interior de la cavidad es constante y tiene la dirección del vector que une el centro de las dos esferas**, el origen (centro de la primera esfera, con $O'$, el centro de la segunda."
   ]
  },
  {
   "cell_type": "code",
   "execution_count": null,
   "id": "ad7b5894-d3a4-44bd-b20c-f3e83caecaa0",
   "metadata": {},
   "outputs": [],
   "source": []
  }
 ],
 "metadata": {
  "kernelspec": {
   "display_name": "Python 3 (ipykernel)",
   "language": "python",
   "name": "python3"
  },
  "language_info": {
   "codemirror_mode": {
    "name": "ipython",
    "version": 3
   },
   "file_extension": ".py",
   "mimetype": "text/x-python",
   "name": "python",
   "nbconvert_exporter": "python",
   "pygments_lexer": "ipython3",
   "version": "3.12.4"
  }
 },
 "nbformat": 4,
 "nbformat_minor": 5
}
