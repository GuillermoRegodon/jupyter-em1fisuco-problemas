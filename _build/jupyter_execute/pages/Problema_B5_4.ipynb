{
 "cells": [
  {
   "cell_type": "markdown",
   "id": "e2044c70-99b7-4ac7-8808-b388278f76cf",
   "metadata": {},
   "source": [
    "# Problema B5.4\n",
    "\n",
    "Este es un problema de circuito magnético que resolvemos con un **método gráfico, ya que la respuesta del material ferromagnético es no lineal y tenemos la gráfica, pero no tenemos una expresión**. Nos dan la gráfica de la respuesta del material $H_{Fe} = H_{Fe}(B_{Fe})$\n",
    "\n",
    "\n",
    "```{figure} ../images/fe_carga.png\n",
    ":alt: fe_carga\n",
    ":width: 410px\n",
    "Respuesta de carga inicial del material ferromagnético.\n",
    "```\n",
    "\n",
    "**El circuito magnético tiene una fuerza magnetomotriz, o $fmm$**, generada por un bobinado de $N=300$ espiras por las que circula una corriente $I=2.5\\rm{A}$. El circuito tiene una sección $S = 2 \\rm{cm^2}$ y una longitud de $L_{Fe}=60 \\rm{cm}$, y un entrehierro (es decir, un trozo de aire que rompe el circuito de hierro) de $L_e=2 \\rm{mm}$. **El entrehierro, al ser aire, tendrá una respuesta lineal, caracterizada por su reluctancia $R_e = \\frac{L_e}{\\mu_0 S}$**. Deberíamos haber usado $S_e$, pero el entrehierro es tan estrecho, que podemo asumir que la sección por la que pasa el flujo magnético es la misma que la sección del material ferromagnético $S$. Por lo tanto, *el campo magnético también es igual en el material ferromagnético que en el entrehierro, $B_{Fe} = B_e = B$*. El circuito magnético podríamos dibujarlo de la siguiente manera:\n",
    "\n",
    "```{figure} ../images/fe_carga_circuito.png\n",
    ":alt: fe_carga_circuito\n",
    ":width: 200px\n",
    "Circuito magnético equivalente.\n",
    "```\n",
    "\n",
    "```{note}\n",
    "Todos los problemas de este tipo los vamos a resolver por un método gráfico. **La metodología gráfica tiene tres pasos**:\n",
    "* **Plantear** la ecuación del circuito. Tipicamente:\n",
    "\n",
    "$$\n",
    "fmm = H(B)L + \\Phi R\n",
    "$$\n",
    "\n",
    "* **Despejar** el elemento no lineal para el que tenemos la gráfica.\n",
    "\n",
    "$$\n",
    "H(B) = \\frac{1}{L}(fmm - \\Phi R)\n",
    "$$\n",
    "\n",
    "* **Dibujar** en la gráfica la recta que nos queda en la igualdad. El punto de corte es la solución que cumple los dos miembros de la igualdad.\n",
    "\n",
    "Las fórmulas que debemos tener en cuenta son:\n",
    "\n",
    "$$\n",
    "fmm &= NI \\\\\n",
    "\\Phi R &= \\phi \\frac{L_R}{\\mu_R S_R} = B_R \\frac{L_R}{\\mu_R}\n",
    "$$\n",
    "\n",
    "Esta metodología general se puede aplicar a los casos concretos de los problemas con un único material ferromagnético y una unica malla, de forma que solo nos queda la ecuación de dicha malla.\n",
    "```\n",
    "\n",
    "Aplicando la metodología gráfica, **la ecuación del circuito** queda:\n",
    "\n",
    "$$\n",
    "fmm = H_{Fe}(B_{Fe}) L_{Fe} + \\Phi R_e\n",
    "$$\n",
    "\n",
    "Sustituimos los valores de $fmm$ y $R_e$ y dejamos la expresión para que dependa de $B_{Fe} = B_e = B$. La expresión final, después de despejar $H_{Fe}(B)$, es la siguiente:\n",
    "\n",
    "$$\n",
    "H_{Fe}(B) = \\frac{1}{L_{Fe}}\\left( NI - B \\frac{L_e}{\\mu_0} \\right)\n",
    "$$\n",
    "\n",
    "Podemos comprobar que la recta dibujada en la figura es la recta que tiene esta ecuación. Lo más facil es dibujar los puntos de corte con los ejes y trazar la linea recta que los une. Si calculamos los puntos de corte con los ejes de la recta $\\frac{1}{L_{Fe}}\\left( NI - B \\frac{L_e}{\\mu_0} \\right)$, comprobaremos que coinciden con los de la recta dibujada."
   ]
  },
  {
   "cell_type": "code",
   "execution_count": null,
   "id": "4fd91214-0c29-4f29-b647-3c6df23a0fbc",
   "metadata": {},
   "outputs": [],
   "source": []
  }
 ],
 "metadata": {
  "kernelspec": {
   "display_name": "Python 3 (ipykernel)",
   "language": "python",
   "name": "python3"
  },
  "language_info": {
   "codemirror_mode": {
    "name": "ipython",
    "version": 3
   },
   "file_extension": ".py",
   "mimetype": "text/x-python",
   "name": "python",
   "nbconvert_exporter": "python",
   "pygments_lexer": "ipython3",
   "version": "3.8.20"
  }
 },
 "nbformat": 4,
 "nbformat_minor": 5
}