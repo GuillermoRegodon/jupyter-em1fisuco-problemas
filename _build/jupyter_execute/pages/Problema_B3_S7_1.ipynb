{
 "cells": [
  {
   "cell_type": "markdown",
   "id": "6f6b5f9d-cacd-4f83-8b6d-1b67ed7840c0",
   "metadata": {},
   "source": [
    "# Problema B3.S7.1\n",
    "\n",
    "```{note}\n",
    "Un sólido polarizado está constituido por dipolos microscópicos que no está perfectamente balanceados, creando unas densidades de carga de polarización que, a su vez, son fuentes de campo electrostático $\\vec{E}$ y de potencial $\\Phi$.\n",
    "```\n",
    "\n",
    "A partir de la expresión del vector polarización $\\vec{P}$ de la esfera polarizada, podemos obtener de forma sencilla las densidades volumétrica y superficial de carga de polarización:\n",
    "\n",
    "$$\n",
    "\\rho_P &= -\\nabla\\cdot\\vec{P}\\\\\n",
    "\\sigma_P &= \\vec{n}\\cdot\\vec{P}\n",
    "$$\n",
    "\n",
    "Tenemos que tener cuidado con las coordenadas esféricas, por que la expresión del vector polarización $\\vec{P}$ está en cilíndricas:\n",
    "\n",
    "$$\n",
    "\\vec{P} = A(s\\vec{u_s}-z\\vec{u_z})\n",
    "$$\n",
    "\n",
    "* La densidad volumétrica de carga de polarización se puede calcular en coordenadas cilíndricas. Escribiendo la divergencia en cilíndricas:\n",
    "\n",
    "$$\n",
    "\\rho_P = -\\nabla\\cdot\\vec{P} = -\\frac{1}{s}\\frac{\\partial}{\\partial s} \\left( sP_s\\right) - \\frac{\\partial P_z}{\\partial z} = -A\n",
    "$$\n",
    "\n",
    "* La densidad superficial de carga de polarización aparece sobre la superficie de la esfera, cuyo vector normal es sencillo.\n",
    "\n",
    "$$\n",
    "\\sigma_P = \\vec{n}\\cdot\\vec{P} = \\vec{u_r}\\cdot(A(s\\vec{u_s}-z\\vec{u_z})\n",
    "$$\n",
    "\n",
    "Podemos elegir varias maneras de escribir este resultado. Viendo que nos va a quedar una configuración de carga esférica con simetría en torno al eje $z$, parece conveniente escribirlo en coordenadas esféricas en función del ángulo azimutal $\\theta$. El vector polarización, en la superficie de la esfera vale:\n",
    "\n",
    "$$\n",
    "\\vec{P}(r{=}a) = A(s\\vec{u_s}-z\\vec{u_z}) = Aa(\\sin\\theta\\vec{u_s} - \\cos\\theta\\vec{u_z})\n",
    "$$\n",
    "\n",
    "A su vez, $\\vec{u_r}\\cdot\\vec{u_s} = \\sin\\theta$ y $\\vec{u_r}\\cdot\\vec{u_z} = \\cos\\theta$ (*¡Comprobar!*), por lo que finalmente:\n",
    "\n",
    "$$\n",
    "\\sigma_P = Aa\\left(\\sin^2\\theta-\\cos^2\\theta\\right) = -2Aa\\cos(2\\theta)\n",
    "$$\n",
    "\n",
    "Vemos que las fuentes del problema son una esfera de densidad volumétrica de carga constante $\\rho_P = -A$ y una densidad superficial de carga de polarización $\\sigma_P = -2Aa\\cos(2\\theta)$ (*que provienen de la polarización*). Ambos problemas son problemas que podemos resolver **en todo el espacio** con la metodología de los temas anteriores. En partícular, en el origen ($\\vec{r} = \\vec{0}$):\n",
    "\n",
    "$$\n",
    "\\Phi(r{=}0) = \\frac{1}{4\\pi\\varepsilon_0}\\int_V\\frac{\\rho_P(\\vec{r'})}{r'}dV' + \\frac{1}{4\\pi\\varepsilon_0}\\int_V\\frac{\\sigma_P(\\vec{r'})}{r'}dS' = -\\frac{Aa^2}{2\\varepsilon_0} + \\frac{Aa^2}{3\\varepsilon_0} = -\\frac{Aa^2}{6\\varepsilon_0}\n",
    "$$"
   ]
  },
  {
   "cell_type": "code",
   "execution_count": null,
   "id": "4c16ad51-aca0-41f7-b7cd-2a8a46aad816",
   "metadata": {},
   "outputs": [],
   "source": []
  }
 ],
 "metadata": {
  "kernelspec": {
   "display_name": "Python 3 (ipykernel)",
   "language": "python",
   "name": "python3"
  },
  "language_info": {
   "codemirror_mode": {
    "name": "ipython",
    "version": 3
   },
   "file_extension": ".py",
   "mimetype": "text/x-python",
   "name": "python",
   "nbconvert_exporter": "python",
   "pygments_lexer": "ipython3",
   "version": "3.12.4"
  }
 },
 "nbformat": 4,
 "nbformat_minor": 5
}