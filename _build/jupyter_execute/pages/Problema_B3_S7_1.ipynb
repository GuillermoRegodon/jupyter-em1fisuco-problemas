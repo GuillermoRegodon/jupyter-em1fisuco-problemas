{
 "cells": [
  {
   "cell_type": "markdown",
   "id": "6f6b5f9d-cacd-4f83-8b6d-1b67ed7840c0",
   "metadata": {},
   "source": [
    "# Problema B3.S7.1\n",
    "\n",
    "```{note}\n",
    "Un sólido polarizado está constituido por dipolos microscópicos que no está perfectamente balanceados, creando unas densidades de carga de polarización que, a su vez, son fuentes de campo electrostático $\\vec{E}$ y de potencial $\\Phi$.\n",
    "```\n",
    "\n",
    "A partir de la expresión del vector polarización $\\vec{P}$ de la esfera polarizada, podemos obtener de forma sencilla las densidades volumétrica y superficial de carga de polarización:\n",
    "\n",
    "$$\n",
    "\\rho_P &= -\\nabla\\cdot\\vec{P}\\\\\n",
    "\\sigma_P &= \n"
   ]
  },
  {
   "cell_type": "code",
   "execution_count": null,
   "id": "4c16ad51-aca0-41f7-b7cd-2a8a46aad816",
   "metadata": {},
   "outputs": [],
   "source": []
  }
 ],
 "metadata": {
  "kernelspec": {
   "display_name": "Python 3 (ipykernel)",
   "language": "python",
   "name": "python3"
  },
  "language_info": {
   "codemirror_mode": {
    "name": "ipython",
    "version": 3
   },
   "file_extension": ".py",
   "mimetype": "text/x-python",
   "name": "python",
   "nbconvert_exporter": "python",
   "pygments_lexer": "ipython3",
   "version": "3.12.4"
  }
 },
 "nbformat": 4,
 "nbformat_minor": 5
}