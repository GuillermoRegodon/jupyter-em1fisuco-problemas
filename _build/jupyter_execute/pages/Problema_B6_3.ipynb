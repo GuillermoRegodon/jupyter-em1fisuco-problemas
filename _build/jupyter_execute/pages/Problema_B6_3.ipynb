{
 "cells": [
  {
   "cell_type": "markdown",
   "id": "483599c7-9a60-46ec-bfb6-1eab4c000597",
   "metadata": {},
   "source": [
    "# Problema B6.3\n",
    "\n",
    "En el diagrama de este problema no hay un circuito, espira o similar por donde sepamos seguro que debe pasar la corriente, por lo que **no podemos aplicar las expresiones de inducción, fuerza electromotriz, etc**. Tenemos que quedarnos en un paso anterior de los desarrollos teóricos y quedarnos con las leyes fundamentales. En este caso, **tenemos unas cargas libres en el disco de metal que estarán sujetas a a fuerza de Lorentz $\\vec{F_L}$** cuando el disco gira.\n",
    "\n",
    "\n",
    "```{figure} ../images/disco_rot.png\n",
    ":alt: disco_rot\n",
    ":width: 250px\n",
    "Diagrama del problema.\n",
    "```\n",
    "\n",
    "Despreciando la aceleración centrípeta, que es muy pequeña, podemos decir que la fuerza de Lorentz sobre la partícula es nula, $\\vec{F_L} = 0$:\n",
    "\n",
    "$$\n",
    "\\vec{F_L} = q \\left( \\vec{E} + \\vec{v} \\times \\vec{B_0} \\right)\n",
    "$$\n",
    "\n",
    "Es decir, para que las partículas estén estacionarias (*o girando con inercia despreciable*), debe aparecer **un campo eléctrico $\\vec{E}$ que compense la fuerza magnética producida por $\\vec{B_0}$**. El campo eléctrico aparece por la acumulación de cargas positivas en el exterior del disco a causa de la fuerza magnética:\n",
    "\n",
    "$$\n",
    "\\vec{F_m} = q(\\vec{v} \\times \\vec{B_0}) = q(\\vec{\\omega} \\times \\vec{r}) \\times \\vec{B_0} = q(\\omega\\vec{u_z} \\times r\\vec{u_r}) \\times B_0\\vec{u_z} = q \\omega r B_0 \\vec{u_r}\n",
    "$$\n",
    "\n",
    "Efectivamente, la fuerza magnética aleja las cargas del centro del disco. El campo eléctrico $\\vec{E}$ se obtiene por lo tanto:\n",
    "\n",
    "$$\n",
    "\\vec{E} = -\\vec{v} \\times \\vec{B_0} = -\\omega r B_0 \\vec{u_r}\n",
    "$$\n",
    "\n",
    "Si se conecta una resistencia $R$ entre el centro y el borde del disco, la corriente que atraviesa la resistencia viene dada por la ley de Ohm, $I = \\frac{\\Delta V}{R}$, y la diferencia de potencial la podemos obtener por integración del campo eléctrico a lo largo de un radio del disco, $r\\in[0,a]$.\n",
    "\n",
    "$$\n",
    "\\Delta V = \\Phi(r=a) - \\Phi(r=0) = -\\int_{r_0}^{r=a}\\vec{E}\\cdot\\vec{dl} = \\int_{r_0}^{r=a}\\omega r B_0 dr = \\frac{\\omega a^2 B_0}{2}\n",
    "$$"
   ]
  },
  {
   "cell_type": "code",
   "execution_count": null,
   "id": "c665fa74-a195-4c1e-9ca0-30899bd36341",
   "metadata": {},
   "outputs": [],
   "source": []
  }
 ],
 "metadata": {
  "kernelspec": {
   "display_name": "Python 3 (ipykernel)",
   "language": "python",
   "name": "python3"
  },
  "language_info": {
   "codemirror_mode": {
    "name": "ipython",
    "version": 3
   },
   "file_extension": ".py",
   "mimetype": "text/x-python",
   "name": "python",
   "nbconvert_exporter": "python",
   "pygments_lexer": "ipython3",
   "version": "3.12.4"
  }
 },
 "nbformat": 4,
 "nbformat_minor": 5
}