{
 "cells": [
  {
   "cell_type": "markdown",
   "id": "87b61f57-e2f1-4323-b815-649ae09fb5ab",
   "metadata": {},
   "source": [
    "# Problema B6.1\n",
    "\n",
    "Antes de plantear el problema, *recordamos el fenómeno físico*: Cuándo un campo magnetico $\\vec{B_1}$ varía a través de una espira, de tal forma que el flujo total $\\Phi_{21} = \\int_{S_2}\\vec{B_1}\\cdot\\vec{dS_2}$ varía, se genera una fuerza electromotriz $\\mathcal{E_2}=-\\frac{\\rm{d}\\Phi_{21}}{\\rm{d}I_1}$ que genera una corriente $I_2$ en dicha espira. *Esta corriente podría generar un campo magnético adicional $\\vec{B_2}$* que a su vez debería tenerse en cuenta para corregir la corriente $I_2$. Cuando nos pidan la corriente inducida, **vamos a despreciar este efecto de autoinducción, que es lo mismo que decir que el campo magnético $\\vec{B_2}$ tiene un efecto despreciable frente al efecto de $\\vec{B_1}$**. Esto lo conseguimos limitando la corriente con una resistencia $R\\neq 0$.\n",
    "\n",
    "$$\n",
    "I_2 = \\frac{\\mathcal{E}}{R} = -\\frac{1}{R}\\frac{\\rm{d}\\Phi_{21}}{\\rm{d}I_1}\n",
    "$$\n",
    "\n",
    "En este problema concreto, tenemos la corriente $I_1 = I(t)$ diferente para cada apartado. \n",
    "\n",
    "\n",
    "```{figure} ../images/induccion.png\n",
    ":alt: induccion\n",
    ":width: 250px\n",
    "Diagrama del problema.\n",
    "```\n",
    "\n",
    "*En el primer apartado, la espira rectangular está quieta*, por lo que la única variación del flujo $\\Phi_{21}$ viene de la dependencia temporal de la corriente.\n",
    "\n",
    "$$\n",
    "\\Phi_{21} = \\int_{S_2}\\vec{B_1}\\cdot\\vec{dS_2} = \\int_{z=0}^{z=b}\\int_{r=c}^{r=c+a}(\\frac{\\mu_0 I(t)}{2\\pi r}\\vec{u_\\phi})\\cdot({dr\\space dz \\space \\vec{u_\\phi}})\n",
    "$$\n",
    "\n",
    "En los apartados segundo y tercero la corriente es constante $I_1 = I_0 = cte$, pero *la espira se mueve de forma que el flujo $\\Phi_{21}$ puede variar*. En el segundo apartado, la espira rectangular se desplaza radialmente, por lo que cambiamos la corriente y los límites de integración de la siguiente manera:\n",
    "\n",
    "$$\n",
    "I_1 &= I_0 = cte \\\\\n",
    "r=c &\\rightarrow r=vt \\\\\n",
    "r=c+a &\\rightarrow r=vt + a\n",
    "$$\n",
    "\n",
    "De esta forma el flujo disminuye y la fuerza electromotriz $\\mathcal{E}$ genera la corriente $I_2 \\neq 0$. En el tercer apartado, la espira se desplaza a lo largo del eje $z$ de simetría, por lo que cambiamos:\n",
    "\n",
    "$$\n",
    "I_1 &= I_0 = cte \\\\\n",
    "z=0 &\\rightarrow z=vt \\\\\n",
    "z=b &\\rightarrow z=vt + b\n",
    "$$\n",
    "\n",
    "En esta caso, obtenemos un flujo magnético constante, por lo que la corriente inducida en $I_2 = 0$."
   ]
  },
  {
   "cell_type": "code",
   "execution_count": null,
   "id": "3bb3a7c1-1750-4e0e-b94f-46b580d48152",
   "metadata": {},
   "outputs": [],
   "source": []
  }
 ],
 "metadata": {
  "kernelspec": {
   "display_name": "Python 3 (ipykernel)",
   "language": "python",
   "name": "python3"
  },
  "language_info": {
   "codemirror_mode": {
    "name": "ipython",
    "version": 3
   },
   "file_extension": ".py",
   "mimetype": "text/x-python",
   "name": "python",
   "nbconvert_exporter": "python",
   "pygments_lexer": "ipython3",
   "version": "3.12.4"
  }
 },
 "nbformat": 4,
 "nbformat_minor": 5
}