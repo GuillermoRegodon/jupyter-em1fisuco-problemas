{
 "cells": [
  {
   "cell_type": "markdown",
   "id": "cce7c145-8a8b-4442-b498-b6339b655537",
   "metadata": {},
   "source": [
    "# Problema B3.S7.3\n",
    "\n",
    "```{note}\n",
    "Un sólido polarizado está constituido por dipolos microscópicos que no está perfectamente balanceados, creando unas densidades de carga de polarización que, a su vez, son fuentes de campo electrostático $\\vec{E}$ y de potencial $\\Phi$.\n",
    "```\n",
    "\n",
    "La esfera polarizada genera unas densidades de carga de polarización que a su vez, son las fuentes del potencial $\\Phi$ y del campo eléctrico $\\vec{E}$. La polarización de la esfera es uniforme. Por conveniencia lo orientamos en la dirección del eje $z$ y centrada en el origen, de tal forma que:\n",
    "\n",
    "$$\n",
    "\\vec{P} = P\\vec{u_z}\n",
    "$$\n",
    "\n",
    "Y la normal $\\vec{n}$ a la superficie es $\\vec{n} = \\vec{u_r}$. Veamos los valores de las densidades de carga de polarización:\n",
    "\n",
    "$$\n",
    "\\rho_P &= -\\nabla\\cdot\\vec{P} = 0 \\\\\n",
    "\\sigma_P &= \\vec{n}\\cdot\\vec{P} = P\\cos\\theta\n",
    "$$\n",
    "\n",
    "Es decir, tenemos que calcular el potencial $\\Phi$ y el campo eléctrico $\\vec{E}$ de una esfera hueca de carga superficial $\\sigma_P=P\\cos\\theta$. La solución la obtuvimos en el problema B2.S5.2 (*¿Usando qué metodología?*), sustituyendo $\\sigma_0$ por $P$.\n",
    "\n",
    "$$\n",
    "\\Phi_d &= \\frac{P}{3\\varepsilon_0} r \\cos\\theta = \\frac{P}{3\\varepsilon_0} z \\\\\n",
    "\\Phi_f &= \\frac{P R^3}{3 \\varepsilon_0r^2} \\cos\\theta\n",
    "$$\n",
    "\n",
    "Mientras que el campo eléctrico $\\vec{E}$ se puede obtener a partir de la definición de potencial, $\\vec{E} = -\\nabla\\Phi$.\n",
    "\n",
    "$$\n",
    "\\vec{E_d} &= -\\frac{P}{3\\varepsilon_0} \\vec{u_z} \\\\\n",
    "\\vec{E_f} &= \\frac{P R^3}{3 \\varepsilon_0r^3} (2\\cos\\theta \\vec{u_r} + \\sin\\theta \\vec{u_\\theta})\n",
    "$$\n",
    "\n",
    "En este caso, no se puede definir una permitividad de la esfera ya que la polarización $\\vec{P}$ no depende del campo eléctrico $\\vec{E}$."
   ]
  },
  {
   "cell_type": "code",
   "execution_count": null,
   "id": "f124ccdb-090b-42f3-947f-2b60d6263632",
   "metadata": {},
   "outputs": [],
   "source": []
  }
 ],
 "metadata": {
  "kernelspec": {
   "display_name": "Python 3 (ipykernel)",
   "language": "python",
   "name": "python3"
  },
  "language_info": {
   "codemirror_mode": {
    "name": "ipython",
    "version": 3
   },
   "file_extension": ".py",
   "mimetype": "text/x-python",
   "name": "python",
   "nbconvert_exporter": "python",
   "pygments_lexer": "ipython3",
   "version": "3.12.4"
  }
 },
 "nbformat": 4,
 "nbformat_minor": 5
}
