{
 "cells": [
  {
   "cell_type": "markdown",
   "id": "76fffe91-a621-4ee3-8763-076953823bfd",
   "metadata": {},
   "source": [
    "# Problema B1.S1.1\n",
    "\n",
    "Este problema resuelve el campo eléctrico $\\vec{E}$ en el punto $(0,0,z)$ que genera un hilo de carga rectilíneo de densidad lineal de carga constante $\\lambda$ desde $(0,0,0)$ hasta $(L,0,0)$. Es interesante observar que este resultado se puede utilizar para calcular el campo eléctrico $\\vec{E}$ en cualquier punto del espacio, generado por cualquier configuración de hilos de carga lineales de densidad de carga constante.\n",
    "\n",
    "```{figure} ../images/B1_S1_1_1.png\n",
    ":alt: hilo corto de carga.png\n",
    ":width: 350px\n",
    "```\n",
    "\n",
    "Este problema se puede resolver por aplicación inmediata de la integral del campo eléctrico, de forma que sumamos la aportación de todos los trozos del hilo.\n",
    "\n",
    "$$\n",
    "\\vec{E} = \\frac{1}{4\\pi\\varepsilon_0}\\int\\frac{\\lambda(\\vec{r})dl'}{R^2}\\vec{u_R}\n",
    "$$\n",
    "\n",
    "Con $\\vec{R} = \\vec{r}-\\vec{r'}$. Tenemos que interpretar todos los elementos que aparecen en la integral de línea.\n",
    "\n",
    "$$\n",
    "\\lambda(\\vec{r'}) &= cte \\\\\n",
    "\\vec{r} &= (0,0,z) \\\\\n",
    "\\vec{r'} &= (x',0,0) \\\\\n",
    "\\vec{R} &= (-x',0,z) \\\\\n",
    "R &= \\sqrt{x'^2 + z^2} \\\\\n",
    "\\vec{u_R} &= (-\\frac{x'}{\\sqrt{x'^2 + z^2}},0,\\frac{z}{\\sqrt{x'^2 + z^2}}) \\\\\n",
    "dl' &= dx' \\quad \\quad x' \\in [0,L]\n",
    "$$\n",
    "\n",
    "\n",
    "```{figure} ../images/B1_S1_1_2.png\n",
    ":alt: hilo corto de carga.png\n",
    ":width: 250px\n",
    "```\n",
    "\n",
    "En estos casos, suele ser más cómodo realizar las componentes $x$ y $z$, por separado.\n",
    "\n",
    "$$\n",
    "E_x = \\frac{1}{4\\pi\\varepsilon_0}\\int\\frac{-\\lambda x' dx'}{(x'^2 + z^2)^\\frac{3}{2}} = \\frac{\\lambda}{4\\pi\\varepsilon_0}\\left( \\frac{1}{\\sqrt{L^2+z^2}} - \\frac{1}{z} \\right)\n",
    "$$\n",
    "\n",
    "$$\n",
    "E_z = \\frac{1}{4\\pi\\varepsilon_0}\\int\\frac{\\lambda z dx'}{(x'^2 + z^2)^\\frac{3}{2}} = \\frac{\\lambda}{4\\pi\\varepsilon_0}\\left( \\frac{L}{z\\sqrt{L^2+z^2}} \\right)\n",
    "$$\n",
    "\n",
    "```{note}\n",
    "Este resultado se puede utilizar, **gracias al principio de superposición**, para obtener el campo eléctrico generado por **cualquier configuración de hilos rectos**. Como ejemplo de aplicación, sugiero que se intente calcular el campo eléctrico de las siguientes configuraciones en los puntos dados:\n",
    "* Un hilo infinito de densidad de carga lineal $\\lambda$ constante.\n",
    "\n",
    "* Un segmento de densidad de carga lineal $\\lambda$ constante y de longitud $L$ en cualquier punto del espacio.\n",
    "\n",
    "* Un marco cuadrado de lado $b$ en un punto a altura $h$ perpendicularmente sobre el centro del marco.\n",
    "```\n",
    "\n",
    "```{note}\n",
    "Obviamente, el hecho de que el campo eléctrico se pueda calcular como una integral es consecuencia del propio principio de superposición.\n",
    "```"
   ]
  },
  {
   "cell_type": "code",
   "execution_count": null,
   "id": "249b6326-77da-4b7e-89fd-b61fbd7c3624",
   "metadata": {},
   "outputs": [],
   "source": []
  }
 ],
 "metadata": {
  "kernelspec": {
   "display_name": "Python 3 (ipykernel)",
   "language": "python",
   "name": "python3"
  },
  "language_info": {
   "codemirror_mode": {
    "name": "ipython",
    "version": 3
   },
   "file_extension": ".py",
   "mimetype": "text/x-python",
   "name": "python",
   "nbconvert_exporter": "python",
   "pygments_lexer": "ipython3",
   "version": "3.12.4"
  }
 },
 "nbformat": 4,
 "nbformat_minor": 5
}
