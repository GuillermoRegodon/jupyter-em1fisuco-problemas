{
 "cells": [
  {
   "cell_type": "markdown",
   "id": "cafb5266-db46-4ce4-b161-4473832798c7",
   "metadata": {},
   "source": [
    "# Problema B1.S1.4\n",
    "\n",
    "Nos pide la fuerza que ejerce un hemisferio de carga sobre el otro, con la densidad de carga $\\rho = \\frac{Q}{(4/3)\\pi a^3}$ constante. Observamos que la fuerza que sufre una partícula, o un diferencial de carga en nuestro caso, es proporcional al campo eléctrico. Por lo tanto, *necesitamos conocer el campo eléctrico $\\vec{E}_{S\\rightarrow N}$ que ejerce el hemisferio sur en un punto del hemisferio norte*. Una vez tuvieramos la expresión, podríamos integrar en todo el hemisferio norte para obtener la fuerza total.\n",
    "\n",
    "$$\n",
    "\\vec{F}_N = \\int_N \\rho \\vec{E}_{S\\rightarrow N} dV_N\n",
    "$$\n",
    "\n",
    "Posiblemente, lo primero que observemos es que la fuerza debe tener dirección $z$ por simetría y eliminar dos componentes. Sin embargo, calcular el campo eléctrico $\\vec{E}_{S\\rightarrow N}$ que genera el hemisferio sur en cualquier punto del hemisferio norte es complicado.\n",
    "\n",
    "$$\n",
    "\\vec{E}_{S\\rightarrow N} = \\frac{1}{4\\pi\\varepsilon_0}\\int_S \\frac{\\rho}{R^2}\\vec{u_R} dV_S\n",
    "$$\n",
    "\n",
    "La simetría esférica se puede utilizar para parametrizar de forma sencilla el diferencial de volumen de integración, pero para parametrizar el punto en el que se integra, es necesario utilizar otras coordenadas. La distancia $R = |\\vec{r_N} - \\vec{r_S}|$ depende fuertemente del punto en el que se quiere integrar, y no resulta sencillo en ningún caso. (**Notar que en lugar de utilizar $\\vec{r}$ y $\\vec{r'}$, hemos utilizado los subíndices $N$ y $S$ para el punto donde se calcula el campo y el punto en el que está la fuente**). \n",
    "\n",
    "```{note}\n",
    "Aunque a priori, este problema se puede plantear, y quizás resolver la expresión exacta, *vamos a aprovechar el principio de superposición para resolver el problema de forma sencilla*.\n",
    "```\n",
    "\n",
    "Para simplificar el cálculo, observemos que si añadiéramos el hemisferio norte, calcular el campo eléctrico en el hemisferio norte es sencillo por Gauss (*¡Comprobar!*).\n",
    "\n",
    "$$\n",
    "\\vec{E}_N = \\vec{E}_{S\\rightarrow N} + \\vec{E}_{N\\rightarrow N} = \\frac{\\rho \\vec{r}}{3\\varepsilon_0} = \\frac{Q \\vec{r}}{4\\pi\\varepsilon_0 a^3} = \\frac{Q r}{4\\pi\\varepsilon_0 a^3}\\vec{u_r}\n",
    "$$\n",
    "\n",
    "Nos preguntamos en este punto, **¿Pero el campo eléctrico que afecta al hemisferio norte es sólo el del hemisferio sur?** Sin duda que el hemisferio norte también genera su campo eléctrico. **¿Qué efecto produce el campo eléctrico del hemisferio norte sobre el propio hemisfério norte?** (*¡Pensar durante unos instantes!*)\n",
    "\n",
    "La respuesta proviene de un principio de mecánica: La fuerza que ejerce un cuerpo sobre sí mismo, debe ser nulo (*Si no fuera así, se movería sólo, sin cumplir la tercera ley de Newton*). Por lo tanto, la fuerza total que ejerce el hemisferio sur sobre el hemisferio norte es la misma que la fuerza que ejerce la esfera completa (*sur y norte*) sobre el hemisferio norte.\n",
    "\n",
    "$$\n",
    "\\vec{F}_N = \\int_N \\rho \\vec{E}_{S\\rightarrow N} dV_N + \\int_N \\rho \\vec{E}_{N\\rightarrow N} dV_N = \\int_N \\rho \\vec{E}_{N} dV_N\n",
    "$$\n",
    "\n",
    "Utilizando la expresión obtenida fácilmente por la ley de Gauss:\n",
    "\n",
    "$$\n",
    "\\vec{F}_N = \\int_N \\rho \\frac{\\rho r}{3\\varepsilon_0}\\vec{u_r} dV_N\n",
    "$$\n",
    "\n",
    "Por la simetría en torno al eje $z$ de la que seguro que nos hemos dado cuenta antes, nos quedamos solamente con la componente $z$ de $\\vec{u_r} = (...,...,\\cos\\theta)$. Usando el diferencial de volumen en el hemisferio norte:\n",
    "\n",
    "$$\n",
    "dV_N = r^2 \\sin \\theta dr d\\theta d\\varphi \\\\\n",
    "r \\in [0,a] \\qquad \\theta \\in [0, \\pi/2] \\qquad \\varphi \\in [0,2\\pi]\n",
    "$$\n",
    "\n",
    "Por lo que, finalmente:\n",
    "\n",
    "$$\n",
    "F_{Nz} = \\int_{r=0}^{r=a} \\int_{\\theta=0}^{\\theta=\\pi/2)} \\int_{\\varphi=0}^{\\varphi=2\\pi} \\frac{\\rho^2}{3\\varepsilon_0} r^3 \\cos \\theta \\sin \\theta dr d\\theta d\\varphi = \\frac{\\rho^2 \\pi a^4}{12 \\varepsilon_0} = \\frac{3 Q^2}{64 \\pi a^2\\varepsilon_0}\n",
    "$$\n",
    "\n"
   ]
  },
  {
   "cell_type": "code",
   "execution_count": null,
   "id": "5b22eeb3-c8b1-4450-9840-5bafc13af54d",
   "metadata": {},
   "outputs": [],
   "source": []
  }
 ],
 "metadata": {
  "kernelspec": {
   "display_name": "Python 3 (ipykernel)",
   "language": "python",
   "name": "python3"
  },
  "language_info": {
   "codemirror_mode": {
    "name": "ipython",
    "version": 3
   },
   "file_extension": ".py",
   "mimetype": "text/x-python",
   "name": "python",
   "nbconvert_exporter": "python",
   "pygments_lexer": "ipython3",
   "version": "3.12.4"
  }
 },
 "nbformat": 4,
 "nbformat_minor": 5
}
